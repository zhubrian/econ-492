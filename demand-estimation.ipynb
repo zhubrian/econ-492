{
 "cells": [
  {
   "cell_type": "code",
   "execution_count": 1,
   "metadata": {},
   "outputs": [],
   "source": [
    "import matplotlib.pyplot as plt\n",
    "import numpy as np\n",
    "import numpy.linalg as la\n",
    "import pandas as pd\n",
    "import scipy.stats as st\n",
    "import statsmodels.api as sm\n",
    "import time"
   ]
  },
  {
   "cell_type": "code",
   "execution_count": 2,
   "metadata": {},
   "outputs": [],
   "source": [
    "def tsp(M):\n",
    "    return np.transpose(M)\n",
    "\n",
    "def threshold(v,θ):\n",
    "    n = len(v)\n",
    "    H_v = np.zeros(n)\n",
    "    for i in range(n):\n",
    "        if v[i] < θ:\n",
    "            H_v[i] = 0\n",
    "        else:\n",
    "            H_v[i] = v[i]\n",
    "    Z = np.sum(H_v)\n",
    "    for i in range(n):\n",
    "        H_v[i] = H_v[i]/Z\n",
    "    return H_v\n",
    "\n",
    "def mvpo_egd(μ,Σ,γ,K,η):\n",
    "    N = len(μ)\n",
    "    w_hist = np.zeros((K,N))\n",
    "    u_hist = np.zeros(K)\n",
    "    w_curr = np.ones(N)/N\n",
    "    for k in range(K):\n",
    "        g_curr = γ*Σ@w_curr-μ\n",
    "        w_next = np.zeros(N)\n",
    "        w_norm = 0\n",
    "        for i in range(N):\n",
    "            w_norm += w_curr[i]*np.exp(-η*g_curr[i])\n",
    "        for i in range(N):\n",
    "            w_next[i] = (w_curr[i]*np.exp(-η*g_curr[i]))/w_norm\n",
    "        w_hist[k,:] = w_next\n",
    "        u_hist[k] = w_next@μ-0.5*γ*w_next@Σ@w_next\n",
    "        w_curr = w_next\n",
    "    return w_hist[-1], w_hist, u_hist"
   ]
  },
  {
   "cell_type": "code",
   "execution_count": 3,
   "metadata": {},
   "outputs": [],
   "source": [
    "r = np.load(r\"C:\\Users\\zhubr\\OneDrive\\Desktop\\ECON 492\\data\\old-i\\r.npz\")['r']\n",
    "F = np.load(r\"C:\\Users\\zhubr\\OneDrive\\Desktop\\ECON 492\\data\\old-i\\F.npz\")['F'] \n",
    "T = r.shape[0]\n",
    "N = r.shape[1]"
   ]
  },
  {
   "cell_type": "code",
   "execution_count": 4,
   "metadata": {},
   "outputs": [
    {
     "name": "stdout",
     "output_type": "stream",
     "text": [
      "[300 307 314 321 328 335 342 349 356 363 370 377 384 391 398 405]\n",
      "16\n"
     ]
    }
   ],
   "source": [
    "H = 7\n",
    "T_train = 300\n",
    "T_test = [T_train]\n",
    "H_curr = T_train\n",
    "while H_curr <= (T-2*H):\n",
    "    H_curr += H\n",
    "    T_test.append(H_curr)\n",
    "T_test = np.array(T_test)\n",
    "N_test = len(T_test)\n",
    "print(T_test)\n",
    "print(N_test)"
   ]
  },
  {
   "cell_type": "code",
   "execution_count": 5,
   "metadata": {},
   "outputs": [],
   "source": [
    "np.random.seed(492)\n",
    "\n",
    "μ_f = np.mean(F,axis=0)\n",
    "Σ_f = np.cov(tsp(F))\n",
    "\n",
    "J = 100\n",
    "\n",
    "# θ = np.random.normal(loc=0,scale=0.5,size=J)\n",
    "# η = np.random.normal(loc=0,scale=0.5,size=J)\n",
    "\n",
    "θ = np.random.uniform(-1,1,size=J)\n",
    "η = np.random.uniform(-1,1,size=J)\n",
    "\n",
    "# γ = np.random.exponential(scale=0.25,size=J)\n",
    "\n",
    "γ = np.random.uniform(0,1,size=J)"
   ]
  },
  {
   "cell_type": "code",
   "execution_count": 6,
   "metadata": {},
   "outputs": [],
   "source": [
    "N = 100\n",
    "N_IU = 100\n",
    "### CREATE INSTRUMENT ###\n",
    "\n",
    "size = np.load(r\"C:\\Users\\zhubr\\OneDrive\\Desktop\\ECON 492\\data\\old-i\\size.npz\")['data']\n",
    "supply = np.load(r\"C:\\Users\\zhubr\\OneDrive\\Desktop\\ECON 492\\data\\old-i\\supply.npz\")['data']\n",
    "powind = np.load(r\"C:\\Users\\zhubr\\OneDrive\\Desktop\\ECON 492\\data\\old-i\\powind.npz\")['data']\n",
    "momentum = np.load(r\"C:\\Users\\zhubr\\OneDrive\\Desktop\\ECON 492\\data\\old-i\\momentum.npz\")['data']\n",
    "\n",
    "log_mktcap = np.zeros((N_test,N_IU))\n",
    "log_supply = np.zeros((N_test,N_IU))\n",
    "proof_of_work = np.zeros((N_test,N_IU))\n",
    "beta_market = np.zeros((N_test,N_IU))\n",
    "momentum_1w = np.zeros((N_test,N_IU))\n",
    "for n in range(N_test):\n",
    "    fm = np.load(r\"C:\\Users\\zhubr\\OneDrive\\Desktop\\ECON 492\\data\\old-i\\test\\fm-\"+str(n)+\".npz\")\n",
    "    for i in range(N_IU):\n",
    "        log_mktcap[n,i] = np.log(size[T_test[n],i])\n",
    "        log_supply[n,i] = np.log(supply[T_test[n],i])\n",
    "        proof_of_work[n,i] = powind[i]\n",
    "        beta_market[n,i] = fm['beta'][i,0]\n",
    "        momentum_1w[n,i] = momentum[T_test[n],i]\n",
    "\n",
    "log_mktcap_f = log_mktcap.flatten()\n",
    "log_supply_f = log_supply.flatten()\n",
    "proof_of_work_f = proof_of_work.flatten()\n",
    "beta_market_f = beta_market.flatten()\n",
    "momentum_1w_f = momentum_1w.flatten()\n",
    "\n",
    "y = log_mktcap_f\n",
    "X = np.column_stack((log_supply_f,proof_of_work_f,beta_market_f,momentum_1w_f))\n",
    "mod = sm.OLS(y,X)\n",
    "res = mod.fit()\n",
    "log_mktcap_inst_f = mod.predict(res.params,X)\n",
    "log_mktcap_inst = np.reshape(log_mktcap_inst_f,(N_test,N_IU))"
   ]
  },
  {
   "cell_type": "code",
   "execution_count": 7,
   "metadata": {
    "scrolled": true
   },
   "outputs": [
    {
     "data": {
      "text/html": [
       "<table class=\"simpletable\">\n",
       "<caption>OLS Regression Results</caption>\n",
       "<tr>\n",
       "  <th>Dep. Variable:</th>            <td>y</td>        <th>  R-squared (uncentered):</th>      <td>   0.981</td> \n",
       "</tr>\n",
       "<tr>\n",
       "  <th>Model:</th>                   <td>OLS</td>       <th>  Adj. R-squared (uncentered):</th> <td>   0.981</td> \n",
       "</tr>\n",
       "<tr>\n",
       "  <th>Method:</th>             <td>Least Squares</td>  <th>  F-statistic:       </th>          <td>2.110e+04</td>\n",
       "</tr>\n",
       "<tr>\n",
       "  <th>Date:</th>             <td>Wed, 06 Apr 2022</td> <th>  Prob (F-statistic):</th>           <td>  0.00</td>  \n",
       "</tr>\n",
       "<tr>\n",
       "  <th>Time:</th>                 <td>01:39:12</td>     <th>  Log-Likelihood:    </th>          <td> -4009.4</td> \n",
       "</tr>\n",
       "<tr>\n",
       "  <th>No. Observations:</th>      <td>  1600</td>      <th>  AIC:               </th>          <td>   8027.</td> \n",
       "</tr>\n",
       "<tr>\n",
       "  <th>Df Residuals:</th>          <td>  1596</td>      <th>  BIC:               </th>          <td>   8048.</td> \n",
       "</tr>\n",
       "<tr>\n",
       "  <th>Df Model:</th>              <td>     4</td>      <th>                     </th>              <td> </td>    \n",
       "</tr>\n",
       "<tr>\n",
       "  <th>Covariance Type:</th>      <td>nonrobust</td>    <th>                     </th>              <td> </td>    \n",
       "</tr>\n",
       "</table>\n",
       "<table class=\"simpletable\">\n",
       "<tr>\n",
       "   <td></td>     <th>coef</th>     <th>std err</th>      <th>t</th>      <th>P>|t|</th>  <th>[0.025</th>    <th>0.975]</th>  \n",
       "</tr>\n",
       "<tr>\n",
       "  <th>x1</th> <td>    0.6907</td> <td>    0.017</td> <td>   40.319</td> <td> 0.000</td> <td>    0.657</td> <td>    0.724</td>\n",
       "</tr>\n",
       "<tr>\n",
       "  <th>x2</th> <td>    1.0091</td> <td>    0.208</td> <td>    4.856</td> <td> 0.000</td> <td>    0.602</td> <td>    1.417</td>\n",
       "</tr>\n",
       "<tr>\n",
       "  <th>x3</th> <td>    7.0477</td> <td>    0.323</td> <td>   21.822</td> <td> 0.000</td> <td>    6.414</td> <td>    7.681</td>\n",
       "</tr>\n",
       "<tr>\n",
       "  <th>x4</th> <td>    0.0601</td> <td>    0.026</td> <td>    2.320</td> <td> 0.020</td> <td>    0.009</td> <td>    0.111</td>\n",
       "</tr>\n",
       "</table>\n",
       "<table class=\"simpletable\">\n",
       "<tr>\n",
       "  <th>Omnibus:</th>       <td>13.291</td> <th>  Durbin-Watson:     </th> <td>   1.956</td>\n",
       "</tr>\n",
       "<tr>\n",
       "  <th>Prob(Omnibus):</th> <td> 0.001</td> <th>  Jarque-Bera (JB):  </th> <td>  17.204</td>\n",
       "</tr>\n",
       "<tr>\n",
       "  <th>Skew:</th>          <td> 0.108</td> <th>  Prob(JB):          </th> <td>0.000184</td>\n",
       "</tr>\n",
       "<tr>\n",
       "  <th>Kurtosis:</th>      <td> 3.460</td> <th>  Cond. No.          </th> <td>    88.3</td>\n",
       "</tr>\n",
       "</table><br/><br/>Notes:<br/>[1] R² is computed without centering (uncentered) since the model does not contain a constant.<br/>[2] Standard Errors assume that the covariance matrix of the errors is correctly specified."
      ],
      "text/plain": [
       "<class 'statsmodels.iolib.summary.Summary'>\n",
       "\"\"\"\n",
       "                                 OLS Regression Results                                \n",
       "=======================================================================================\n",
       "Dep. Variable:                      y   R-squared (uncentered):                   0.981\n",
       "Model:                            OLS   Adj. R-squared (uncentered):              0.981\n",
       "Method:                 Least Squares   F-statistic:                          2.110e+04\n",
       "Date:                Wed, 06 Apr 2022   Prob (F-statistic):                        0.00\n",
       "Time:                        01:39:12   Log-Likelihood:                         -4009.4\n",
       "No. Observations:                1600   AIC:                                      8027.\n",
       "Df Residuals:                    1596   BIC:                                      8048.\n",
       "Df Model:                           4                                                  \n",
       "Covariance Type:            nonrobust                                                  \n",
       "==============================================================================\n",
       "                 coef    std err          t      P>|t|      [0.025      0.975]\n",
       "------------------------------------------------------------------------------\n",
       "x1             0.6907      0.017     40.319      0.000       0.657       0.724\n",
       "x2             1.0091      0.208      4.856      0.000       0.602       1.417\n",
       "x3             7.0477      0.323     21.822      0.000       6.414       7.681\n",
       "x4             0.0601      0.026      2.320      0.020       0.009       0.111\n",
       "==============================================================================\n",
       "Omnibus:                       13.291   Durbin-Watson:                   1.956\n",
       "Prob(Omnibus):                  0.001   Jarque-Bera (JB):               17.204\n",
       "Skew:                           0.108   Prob(JB):                     0.000184\n",
       "Kurtosis:                       3.460   Cond. No.                         88.3\n",
       "==============================================================================\n",
       "\n",
       "Notes:\n",
       "[1] R² is computed without centering (uncentered) since the model does not contain a constant.\n",
       "[2] Standard Errors assume that the covariance matrix of the errors is correctly specified.\n",
       "\"\"\""
      ]
     },
     "execution_count": 7,
     "metadata": {},
     "output_type": "execute_result"
    }
   ],
   "source": [
    "res.summary()"
   ]
  },
  {
   "cell_type": "code",
   "execution_count": 8,
   "metadata": {
    "scrolled": true
   },
   "outputs": [
    {
     "name": "stdout",
     "output_type": "stream",
     "text": [
      "0\n",
      "1\n",
      "2\n",
      "3\n",
      "4\n",
      "5\n",
      "6\n",
      "7\n",
      "8\n",
      "9\n",
      "10\n",
      "11\n",
      "12\n",
      "13\n",
      "14\n",
      "15\n"
     ]
    }
   ],
   "source": [
    "y = []\n",
    "X = []\n",
    "Z = []\n",
    "\n",
    "for n in range(N_test):\n",
    "    \n",
    "    r_test = r[T_test[n]-T_train:T_test[n],:]\n",
    "    F_test = F[T_test[n]-T_train:T_test[n],:]\n",
    "    \n",
    "    μ_f = np.mean(F_test,axis=0)\n",
    "    Σ_f = np.cov(tsp(F_test))\n",
    "\n",
    "    rsfm = np.load(r\"C:\\Users\\zhubr\\OneDrive\\Desktop\\ECON 492\\data\\old-i\\test\\rsfm-\"+str(n)+\".npz\")\n",
    "\n",
    "    P = rsfm['prediction'][-1]\n",
    "    avg_risk = np.mean(rsfm['sigma'],axis=1)\n",
    "\n",
    "    for j in range(J):\n",
    "\n",
    "        ### TILT DISTRIBUTION ###\n",
    "\n",
    "        S = len(P)\n",
    "        P_sort = np.argsort(P)\n",
    "        avg_risk_sort = np.argsort(avg_risk)\n",
    "        M_θ = 0\n",
    "        for s in range(S):\n",
    "            P_rank = np.where(P_sort==s)[0][0]+1\n",
    "            M_θ += P[s]*np.exp(θ[j]*P_rank)\n",
    "        P_θ = np.zeros(S)\n",
    "        for s in range(S):\n",
    "            P_rank = np.where(P_sort==s)[0][0]+1\n",
    "            P_θ[s] = (P[s]*np.exp(θ[j]*P_rank))/M_θ\n",
    "        M_θη = 0\n",
    "        for s in range(S):\n",
    "            avg_risk_rank = np.where(avg_risk_sort==s)[0][0]+1\n",
    "            M_θη += P_θ[s]*np.exp(η[j]*avg_risk_rank)\n",
    "        P_θη = np.zeros(S)\n",
    "        for s in range(S):\n",
    "            avg_risk_rank = np.where(avg_risk_sort==s)[0][0]+1\n",
    "            P_θη[s] = (P_θ[s]*np.exp(η[j]*avg_risk_rank))/M_θη    \n",
    "        P_tilt = P_θη\n",
    "\n",
    "        ### COMPUTE OPTIMAL WEIGHT ###\n",
    "\n",
    "        μ = np.zeros(N)\n",
    "        Σ = np.zeros((N,N))\n",
    "        for s in range(S):\n",
    "            μ += P_tilt[s]*(rsfm['alpha'][s]+rsfm['beta'][s]@μ_f)\n",
    "            Σ += P_tilt[s]*(np.outer(rsfm['alpha'][s],rsfm['alpha'][s])+np.outer(rsfm['alpha'][s],rsfm['beta'][s]@μ_f)\n",
    "                             +np.outer(rsfm['beta'][s]@μ_f,rsfm['alpha'][s])+rsfm['beta'][s]@(Σ_f+np.outer(μ_f,μ_f))@tsp(rsfm['beta'][s])\n",
    "                             +np.diag(rsfm['sigma'][s]**2))\n",
    "        Σ= Σ-np.outer(μ,μ)\n",
    "        μ = 1+μ/100\n",
    "        Σ = Σ/10000\n",
    "        μ = μ[:N_IU]\n",
    "        Σ = Σ[:N_IU,:N_IU]\n",
    "\n",
    "        K = 500\n",
    "        θ_size = 1e-3\n",
    "        η_size = 50\n",
    "        # γ = 0.5\n",
    "        w, w_hist, u_hist = mvpo_egd(μ,Σ,γ[j],K,η_size)\n",
    "        w = threshold(w,θ_size)\n",
    "        # plt.plot(u_hist)\n",
    "        # plt.grid()\n",
    "        # plt.show()\n",
    "\n",
    "        ### ASSIGN COVARIATES ###\n",
    "        for i in range(N_IU):\n",
    "            obs_X = np.array([log_mktcap[n,i],proof_of_work[n,i],beta_market[n,i],momentum_1w[n,i],θ[j],γ[j]])\n",
    "            obs_Z = np.array([log_supply[n,i],proof_of_work[n,i],beta_market[n,i],momentum_1w[n,i],θ[j],γ[j]])\n",
    "            y.append(w[i])\n",
    "            X.append(obs_X)\n",
    "            Z.append(obs_Z)\n",
    "                \n",
    "    print(n)\n",
    "    \n",
    "y = np.asarray(y)\n",
    "X = np.asarray(X)\n",
    "Z = np.asarray(Z)"
   ]
  },
  {
   "cell_type": "markdown",
   "metadata": {},
   "source": [
    "# Generalized Method of Moments"
   ]
  },
  {
   "cell_type": "code",
   "execution_count": 9,
   "metadata": {},
   "outputs": [],
   "source": [
    "def GMM_obj(β,y,X,Z):\n",
    "    n, d = np.shape(X)\n",
    "    m = np.zeros(d)\n",
    "    for i in range(n):\n",
    "        m += (((y[i]/np.exp(β@X[i,:]))-1)*Z[i,:])/n\n",
    "    return la.norm(m)**2\n",
    "\n",
    "def GMM_obj_grad(β,y,X,Z,δ):\n",
    "    n, d = np.shape(X)\n",
    "    g = np.zeros(d)\n",
    "    for i in range(d):\n",
    "        β_R = β+δ*np.eye(N=1,M=d,k=i)[0]\n",
    "        β_L = β-δ*np.eye(N=1,M=d,k=i)[0]\n",
    "        g[i] = (GMM_obj(β_R,y,X,Z)-GMM_obj(β_L,y,X,Z))/(2*δ)\n",
    "    return g"
   ]
  },
  {
   "cell_type": "code",
   "execution_count": 10,
   "metadata": {},
   "outputs": [],
   "source": [
    "import scipy.optimize as opt\n",
    "\n",
    "n, d = X.shape\n",
    "β_init = np.zeros(d)\n",
    "\n",
    "res = opt.minimize(GMM_obj,β_init,args=(y,X,Z))"
   ]
  },
  {
   "cell_type": "code",
   "execution_count": 11,
   "metadata": {},
   "outputs": [
    {
     "data": {
      "text/plain": [
       "1.517476280725725e-06"
      ]
     },
     "execution_count": 11,
     "metadata": {},
     "output_type": "execute_result"
    }
   ],
   "source": [
    "res.fun"
   ]
  },
  {
   "cell_type": "code",
   "execution_count": 12,
   "metadata": {
    "scrolled": true
   },
   "outputs": [
    {
     "data": {
      "text/plain": [
       "array([-0.22671254, -1.60030764,  0.63007865,  0.0664751 , -0.27080513,\n",
       "       -0.26538019])"
      ]
     },
     "execution_count": 12,
     "metadata": {},
     "output_type": "execute_result"
    }
   ],
   "source": [
    "res.x"
   ]
  },
  {
   "cell_type": "code",
   "execution_count": 13,
   "metadata": {},
   "outputs": [],
   "source": [
    "β_star = res.x\n",
    "G = np.zeros((d,d))\n",
    "Ω = np.zeros((d,d))\n",
    "for i in range(n):\n",
    "    G += (-y[i]/np.exp(β_star@X[i,:]))*np.outer(Z[i,:],X[i,:])/n\n",
    "    Ω += ((y[i]/np.exp(β_star@X[i,:]))-1)**2*np.outer(Z[i,:],Z[i,:])/n\n",
    "GT = np.transpose(G)\n",
    "\n",
    "Σ = la.inv(GT@G)@(GT@Ω@G)@la.inv(GT@G)/n"
   ]
  },
  {
   "cell_type": "code",
   "execution_count": 14,
   "metadata": {},
   "outputs": [
    {
     "data": {
      "text/plain": [
       "array([0.00721927, 0.08145384, 0.12380028, 0.0042205 , 0.03711582,\n",
       "       0.09124385])"
      ]
     },
     "execution_count": 14,
     "metadata": {},
     "output_type": "execute_result"
    }
   ],
   "source": [
    "SE = np.sqrt(np.diag(Σ))\n",
    "SE"
   ]
  },
  {
   "cell_type": "code",
   "execution_count": 15,
   "metadata": {},
   "outputs": [
    {
     "data": {
      "text/plain": [
       "array([-31.40380435, -19.64680332,   5.08947695,  15.75053571,\n",
       "        -7.29621768,  -2.90847215])"
      ]
     },
     "execution_count": 15,
     "metadata": {},
     "output_type": "execute_result"
    }
   ],
   "source": [
    "t = β_star/np.sqrt(np.diag(Σ))\n",
    "t"
   ]
  }
 ],
 "metadata": {
  "kernelspec": {
   "display_name": "Python 3",
   "language": "python",
   "name": "python3"
  },
  "language_info": {
   "codemirror_mode": {
    "name": "ipython",
    "version": 3
   },
   "file_extension": ".py",
   "mimetype": "text/x-python",
   "name": "python",
   "nbconvert_exporter": "python",
   "pygments_lexer": "ipython3",
   "version": "3.8.5"
  }
 },
 "nbformat": 4,
 "nbformat_minor": 4
}
