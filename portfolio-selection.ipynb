{
 "cells": [
  {
   "cell_type": "code",
   "execution_count": 1,
   "metadata": {},
   "outputs": [],
   "source": [
    "import matplotlib.pyplot as plt\n",
    "import numpy as np\n",
    "import numpy.linalg as la\n",
    "import pandas as pd\n",
    "import scipy.stats as st\n",
    "import statsmodels.api as sm\n",
    "import time"
   ]
  },
  {
   "cell_type": "code",
   "execution_count": 2,
   "metadata": {},
   "outputs": [],
   "source": [
    "def logdet(M):\n",
    "    slogdet_M = la.slogdet(M)\n",
    "    return slogdet_M[0]*slogdet_M[1]\n",
    "\n",
    "def tsp(M):\n",
    "    return np.transpose(M)\n",
    "\n",
    "def inv(M):\n",
    "    return la.inv(M)\n",
    "\n",
    "def LSE(x):\n",
    "    n = len(x)\n",
    "    f = 0\n",
    "    for i in range(n):\n",
    "        f += np.exp(x[i])\n",
    "    return np.log(f)\n",
    "\n",
    "def LSE_m(x):\n",
    "    y = x-max(x)\n",
    "    return LSE(y)+max(x)"
   ]
  },
  {
   "cell_type": "code",
   "execution_count": 3,
   "metadata": {},
   "outputs": [],
   "source": [
    "def mvpo_egd(μ,Σ,γ,K,η):\n",
    "    N = len(μ)\n",
    "    w_hist = np.zeros((K,N))\n",
    "    u_hist = np.zeros(K)\n",
    "    w_curr = np.ones(N)/N\n",
    "    for k in range(K):\n",
    "        g_curr = γ*Σ@w_curr-μ\n",
    "        w_next = np.zeros(N)\n",
    "        w_norm = 0\n",
    "        for i in range(N):\n",
    "            w_norm += w_curr[i]*np.exp(-η*g_curr[i])\n",
    "        for i in range(N):\n",
    "            w_next[i] = (w_curr[i]*np.exp(-η*g_curr[i]))/w_norm\n",
    "        w_hist[k,:] = w_next\n",
    "        u_hist[k] = w_next@μ-0.5*γ*w_next@Σ@w_next\n",
    "        w_curr = w_next\n",
    "    return w_hist[-1], w_hist, u_hist"
   ]
  },
  {
   "cell_type": "code",
   "execution_count": 4,
   "metadata": {},
   "outputs": [],
   "source": [
    "class rsfm_fit_inf():\n",
    "    \n",
    "    def __init__(self,likelihood,prediction,filtering,smoothing):\n",
    "        self.likelihood = likelihood\n",
    "        self.prediction = prediction\n",
    "        self.filtering = filtering\n",
    "        self.smoothing = smoothing\n",
    "\n",
    "class rsfm_fit_out():\n",
    "    \n",
    "    def __init__(self,α,B,σ,p,P,observed,PLL_hist,OLL_hist,AIC,BIC):\n",
    "        self.α = α\n",
    "        self.B = B\n",
    "        self.σ = σ\n",
    "        self.p = p\n",
    "        self.P = P\n",
    "        self.observed = observed\n",
    "        self.PLL_hist = PLL_hist\n",
    "        self.OLL_hist = OLL_hist\n",
    "        self.AIC = AIC\n",
    "        self.BIC = BIC\n",
    "        \n",
    "    def save(self,filename):\n",
    "        rsfm_inf = self.inference()\n",
    "        np.savez(filename,alpha=self.α,beta=self.B,sigma=self.σ,p=self.p,\n",
    "                 P=self.P,observed=self.observed,PLL_hist=self.PLL_hist,\n",
    "                 OLL_hist=self.OLL_hist,AIC=self.AIC,BIC=self.BIC,\n",
    "                 likelihood=rsfm_inf.likelihood,prediction=rsfm_inf.prediction,\n",
    "                 filtering=rsfm_inf.filtering,smoothing=rsfm_inf.smoothing)\n",
    "        \n",
    "    def inference(self):\n",
    "        \n",
    "        # create matrices to store probabilities\n",
    "        T = self.observed.shape[0]\n",
    "        S = self.observed.shape[1]\n",
    "        likelihood = self.observed\n",
    "        prediction = np.zeros((T+1,S))\n",
    "        filtering = np.zeros((T,S))\n",
    "        smoothing = np.zeros((T,S)) \n",
    "\n",
    "        # compute prediction and filtering probabilities\n",
    "        prediction[0,:] = self.p\n",
    "        for t in range(T):\n",
    "            # compute total for filtering\n",
    "            log_prediction_iter = np.zeros(S)\n",
    "            for s in range(S):\n",
    "                log_prediction_iter[s] = np.log(max(prediction[t,s],1e-100))+likelihood[t,s]\n",
    "            log_prediction_total = LSE_m(log_prediction_iter)\n",
    "            # compute filtering\n",
    "            for s in range(S):\n",
    "                filtering[t,s] = np.exp(np.log(max(prediction[t,s],1e-100))+likelihood[t,s]-log_prediction_total)\n",
    "            # compute prediction\n",
    "            for s in range(S):\n",
    "                for sprime in range(S):\n",
    "                    prediction[t+1,s] += filtering[t,sprime]*self.P[sprime,s]\n",
    "\n",
    "        # compute smoothing probabilities\n",
    "        for t in range(T-1,0-1,-1):\n",
    "            for s in range(S):\n",
    "                for sprime in range(S):\n",
    "                    if t == T-1:\n",
    "                        smoothing[t,s] += self.P[s,sprime]*prediction[t+1,sprime]/prediction[t+1,sprime]\n",
    "                    else:\n",
    "                        smoothing[t,s] += self.P[s,sprime]*smoothing[t+1,sprime]/prediction[t+1,sprime]\n",
    "                smoothing[t,s] = smoothing[t,s]*filtering[t,s]\n",
    "        \n",
    "        return rsfm_fit_inf(likelihood,prediction,filtering,smoothing)"
   ]
  },
  {
   "cell_type": "code",
   "execution_count": 5,
   "metadata": {},
   "outputs": [],
   "source": [
    "def fm_fit(r,F):\n",
    "    \n",
    "    # set dimensions\n",
    "    T = r.shape[0]\n",
    "    N = r.shape[1]\n",
    "    M = F.shape[1]\n",
    "    \n",
    "    # record estimates\n",
    "    α = np.zeros(N)\n",
    "    B = np.ones((N,M))\n",
    "    σ = np.ones(N)\n",
    "    p = 1\n",
    "    P = 1\n",
    "    observed = np.zeros(T)\n",
    "    PLL_hist = 0\n",
    "    OLL_hist = 0\n",
    "    \n",
    "    # estimate parameters\n",
    "    for i in range(N):\n",
    "        y = r[:,i]\n",
    "        X = np.column_stack((np.ones(T),F))\n",
    "        mod = sm.OLS(y,X)\n",
    "        res = mod.fit()\n",
    "        α[i] = res.params[0]\n",
    "        B[i,:] = res.params[1:(M+1)]\n",
    "        σ[i] = la.norm(y-mod.predict(res.params,X))/np.sqrt(T)\n",
    "    \n",
    "    Ω = np.diag(σ**2)\n",
    "    for t in range(T):\n",
    "        e_t = r[t,:]-α-B@F[t,:]\n",
    "        observed[t] = -0.5*N*np.log(2*np.pi)-0.5*logdet(Ω)-0.5*e_t@inv(Ω)@e_t\n",
    "        \n",
    "    PLL_hist = np.sum(observed)/T\n",
    "    OLL_hist = np.sum(observed)/T\n",
    "    \n",
    "    AIC = -2*T*OLL_hist+2*(N+N*M+N)\n",
    "    BIC = -2*T*OLL_hist+np.log(T)*(N+N*M+N)\n",
    "    \n",
    "    return rsfm_fit_out(α,B,σ,p,P,observed,PLL_hist,OLL_hist,AIC,BIC)"
   ]
  },
  {
   "cell_type": "code",
   "execution_count": 6,
   "metadata": {},
   "outputs": [],
   "source": [
    "def rsfm_fit(r,F,S,N_ITER,N_INIT,seed=0,verbose=2,init_noise_scale=np.array([0.5,0.5,5])):\n",
    "    \n",
    "    ## INITIALIZATION ###\n",
    "    \n",
    "    # set seed and dimensions\n",
    "    np.random.seed(seed)\n",
    "    T = r.shape[0]\n",
    "    N = r.shape[1]\n",
    "    M = F.shape[1]\n",
    "    \n",
    "    # record best estimates\n",
    "    α_best = np.zeros((S,N))\n",
    "    B_best = np.ones((S,N,M))\n",
    "    σ_best = np.ones((S,N))\n",
    "    p_best = np.ones(S)/S\n",
    "    P_best = np.ones((S,S))/S**2\n",
    "    observed_best = np.zeros((T,S))\n",
    "    PLL_hist_best = np.zeros(N_ITER)\n",
    "    OLL_hist_best = np.zeros(N_ITER)\n",
    "    OLL_best = -np.inf\n",
    "\n",
    "    ### ESTIMATE PARAMETERS ###\n",
    "    \n",
    "    for init in range(N_INIT):\n",
    "        \n",
    "        time_init_0 = time.time()\n",
    "        \n",
    "        # randomly initialize factor model parameters\n",
    "        α = np.zeros((S,N))+np.reshape(np.random.normal(loc=0,scale=init_noise_scale[0],size=S*N),(S,N))\n",
    "        B = np.ones((S,N,M))+np.reshape(np.random.normal(loc=0,scale=init_noise_scale[1],size=S*N*M),(S,N,M))\n",
    "        σ = np.reshape(np.random.chisquare(df=init_noise_scale[2],size=S*N),(S,N))\n",
    "        \n",
    "        # randomly initialize Markov chain parameters\n",
    "        p = np.random.rand(S)\n",
    "        p = p/np.sum(p)\n",
    "        P = np.random.rand(S,S)\n",
    "        for s in range(S):\n",
    "            P[s,:] = P[s,:]/np.sum(P[s,:])\n",
    "            \n",
    "        # create likelihood histories\n",
    "        PLL_hist = np.zeros(N_ITER)\n",
    "        OLL_hist = np.zeros(N_ITER)\n",
    "            \n",
    "        # iterative updates\n",
    "        for n in range(N_ITER):\n",
    "            \n",
    "            time_iter_0 = time.time()\n",
    "            \n",
    "            try:    \n",
    "                    \n",
    "                ### EXPECTATION STEP ###\n",
    "                \n",
    "                # compute observed log-densities\n",
    "                observed = np.zeros((T,S))\n",
    "                for s in range(S):\n",
    "                    α_s = α[s,:]\n",
    "                    B_s = B[s,:,:]\n",
    "                    Ω_s = np.diag(σ[s,:]**2)\n",
    "                    for t in range(T):\n",
    "                        e_st = r[t,:]-α_s-B_s@F[t,:]\n",
    "                        observed[t,s] = -0.5*N*np.log(2*np.pi)-0.5*logdet(Ω_s)-0.5*e_st@inv(Ω_s)@e_st\n",
    "                \n",
    "                # compute forward log-densities\n",
    "                log_forward = np.zeros((T,S))\n",
    "                for s in range(S):\n",
    "                    log_forward[0,s] = np.log(max(p[s],1e-100))+observed[0,s]\n",
    "                for t in range(1,T):\n",
    "                    for s in range(S):\n",
    "                        log_forward_iter = np.zeros(S)\n",
    "                        for sprime in range(S):\n",
    "                            log_forward_iter[sprime] = log_forward[t-1,sprime]+np.log(max(P[sprime,s],1e-100))+observed[t,s]\n",
    "                        log_forward[t,s] = LSE_m(log_forward_iter)\n",
    "\n",
    "                # compute backward log-densities\n",
    "                log_backward = np.zeros((T,S))\n",
    "                for t in range(T-2,0-1,-1):\n",
    "                    for s in range(S):\n",
    "                        log_backward_iter = np.zeros(S)\n",
    "                        for sprime in range(S):\n",
    "                            log_backward_iter[sprime] = log_backward[t+1,sprime]+np.log(max(P[s,sprime],1e-100))+observed[t+1,sprime]\n",
    "                        log_backward[t,s] = LSE_m(log_backward_iter) \n",
    "\n",
    "                # compute posterior marginal log-densities for latent variables\n",
    "                log_q = np.zeros((T,S))\n",
    "                for t in range(T):\n",
    "                    for s in range(S):\n",
    "                        log_q_total = np.zeros(S)\n",
    "                        for sprime in range(S):\n",
    "                            log_q_total[sprime] = log_forward[t,sprime]+log_backward[t,sprime]\n",
    "                        log_q[t,s] = log_forward[t,s]+log_backward[t,s]-LSE_m(log_q_total)\n",
    "\n",
    "                # compute posterior transition log-densities for latend variables\n",
    "                log_Q = np.zeros((T-1,S,S))\n",
    "                for t in range(T-1):\n",
    "                    for s in range(S):\n",
    "                        for sprime in range(S):\n",
    "                            log_Q_total = np.zeros((S,S))\n",
    "                            for j in range(S):\n",
    "                                for k in range(S):\n",
    "                                    log_Q_total[j,k] = log_forward[t,j]+np.log(max(P[j,k],100))+log_backward[t+1,k]+observed[t+1,k]\n",
    "                            log_Q_total = log_Q_total.flatten()\n",
    "                            log_Q[t,s,sprime] = log_forward[t,s]+np.log(max(P[s,sprime],100))+log_backward[t+1,sprime]+observed[t+1,sprime]-LSE_m(log_Q_total)\n",
    "                \n",
    "                ### MAXIMIZATION STEP (FACTOR MODEL) ###\n",
    "\n",
    "                # create new iterates\n",
    "                α_new = np.zeros((S,N))\n",
    "                B_new = np.ones((S,N,M))\n",
    "                σ_new = np.zeros((S,N))\n",
    "                    \n",
    "                # compute new iterates\n",
    "                q = np.exp(log_q)\n",
    "                for s in range(S):\n",
    "                    # compute total weighted probability for state s\n",
    "                    q_s_total = 0\n",
    "                    for t in range(T):\n",
    "                        q_s_total += q[t,s]\n",
    "                    # create weighted factor matrix for state s\n",
    "                    φ_s = np.zeros((T,M+1))\n",
    "                    for t in range(T):\n",
    "                        for m in range(M+1):\n",
    "                            if m == 0:\n",
    "                                φ_s[t,m] = q[t,s]**0.5\n",
    "                            else:\n",
    "                                φ_s[t,m] = q[t,s]**0.5*F[t,m-1]\n",
    "                    for i in range(N):\n",
    "                        # create weighted returns for asset i in state s\n",
    "                        r_tilde_si = np.zeros(T)\n",
    "                        for t in range(T):\n",
    "                            r_tilde_si[t] = q[t,s]**0.5*r[t,i]\n",
    "                        # compute factor model parameters  \n",
    "                        β_si = inv(tsp(φ_s)@φ_s)@tsp(φ_s)@r_tilde_si\n",
    "                        α_new[s,i] = β_si[0]\n",
    "                        B_new[s,i,:] = β_si[1:]\n",
    "                        σ_new[s,i] = la.norm(r_tilde_si-φ_s@β_si)/(q_s_total**0.5)\n",
    "\n",
    "                ### MAXIMIZATION STEP (MARKOV CHAIN) ###\n",
    "\n",
    "                # create new iterates\n",
    "                p_new = q[0,:]\n",
    "                P_new = np.zeros((S,S))\n",
    "                \n",
    "                # compute new iterates\n",
    "                for s in range(S):\n",
    "                    for sprime in range(S):\n",
    "                        num = 0\n",
    "                        dnm = 0\n",
    "                        for t in range(T-1):\n",
    "                            num += np.exp(log_Q[t,s,sprime])\n",
    "                            dnm += np.exp(log_q[t,s])\n",
    "                        P_new[s,sprime] = num/dnm\n",
    "\n",
    "                ### UPDATE PARAMETERS ###\n",
    "                \n",
    "                # update parameters\n",
    "                α = α_new\n",
    "                B = B_new\n",
    "                σ = σ_new\n",
    "                p = p_new\n",
    "                P = P_new\n",
    "                \n",
    "                # update average posterior log-likelihood\n",
    "                for t in range(T):\n",
    "                    PLL_iter = np.zeros(S)\n",
    "                    for s in range(S):\n",
    "                        PLL_iter[s] = np.log(max(q[t,s],1e-100))+observed[t,s]\n",
    "                    PLL_total = LSE_m(PLL_iter) \n",
    "                    PLL_hist[n] += PLL_total/T\n",
    "\n",
    "                # update average observed log-likelihood\n",
    "                for t in range(T):\n",
    "                    p_t = la.matrix_power(tsp(P),t)@p\n",
    "                    OLL_iter = np.zeros(S)\n",
    "                    for s in range(S):\n",
    "                        OLL_iter[s] = np.log(max(p_t[s],1e-100))+observed[t,s]\n",
    "                    OLL_total = LSE_m(OLL_iter)\n",
    "                    OLL_hist[n] += OLL_total/T\n",
    "\n",
    "                time_iter_1 = time.time()\n",
    "                if verbose >= 2:\n",
    "                    print(\"init \",init+1,\"/\",N_INIT,\", iter \",n+1,\"/\",N_ITER,\" --- \",time_iter_1-time_iter_0,\" seconds\",sep=\"\")\n",
    "                    \n",
    "            except la.LinAlgError:\n",
    "                OLL_hist[-1] = -np.inf\n",
    "                \n",
    "        ### EVALUATE MODEL ###\n",
    "        \n",
    "        if OLL_hist[-1] >= OLL_best:\n",
    "            α_best = α\n",
    "            B_best = B\n",
    "            σ_best = σ\n",
    "            p_best = p\n",
    "            P_best = P\n",
    "            observed_best = observed\n",
    "            PLL_hist_best = PLL_hist\n",
    "            OLL_hist_best = OLL_hist\n",
    "            OLL_best = OLL_hist[-1]\n",
    "            if verbose >= 1:\n",
    "                print(\"better init found with log-likelihood\",OLL_best)\n",
    "        \n",
    "        time_init_1 = time.time()\n",
    "        if verbose >= 1:\n",
    "            print(\"init \",init+1,\"/\",N_INIT,\" --- \",time_init_1-time_init_0,\" seconds\\n\",sep=\"\")\n",
    "         \n",
    "    ### EVALUATE BEST MODEL ###\n",
    "    AIC_best = -2*T*OLL_best+2*(S*N+S*N*M+S*N+S*S-1)\n",
    "    BIC_best = -2*T*OLL_best+np.log(T)*(S*N+S*N*M+S*N+S*S-1)\n",
    "    \n",
    "    return rsfm_fit_out(α_best,B_best,σ_best,p_best,P_best,observed_best,PLL_hist_best,OLL_hist_best,AIC_best,BIC_best)"
   ]
  },
  {
   "cell_type": "code",
   "execution_count": 7,
   "metadata": {},
   "outputs": [],
   "source": [
    "r = np.load(r\"C:\\Users\\zhubr\\OneDrive\\Desktop\\ECON 492\\data\\old-i\\r.npz\")['r']\n",
    "F = np.load(r\"C:\\Users\\zhubr\\OneDrive\\Desktop\\ECON 492\\data\\old-i\\F.npz\")['F'] \n",
    "\n",
    "T = r.shape[0]\n",
    "N = r.shape[1]"
   ]
  },
  {
   "cell_type": "code",
   "execution_count": 8,
   "metadata": {},
   "outputs": [
    {
     "name": "stdout",
     "output_type": "stream",
     "text": [
      "[300 307 314 321 328 335 342 349 356 363 370 377 384 391 398 405]\n",
      "16\n"
     ]
    }
   ],
   "source": [
    "H = 7\n",
    "T_train = 300\n",
    "T_test = [T_train]\n",
    "H_curr = T_train\n",
    "while H_curr <= (T-2*H):\n",
    "    H_curr += H\n",
    "    T_test.append(H_curr)\n",
    "T_test = np.array(T_test)\n",
    "N_test = len(T_test)\n",
    "print(T_test)\n",
    "print(N_test)"
   ]
  },
  {
   "cell_type": "markdown",
   "metadata": {},
   "source": [
    "# Build models"
   ]
  },
  {
   "cell_type": "code",
   "execution_count": 9,
   "metadata": {
    "scrolled": true
   },
   "outputs": [
    {
     "name": "stdout",
     "output_type": "stream",
     "text": [
      "better init found with log-likelihood -305.4769543120346\n",
      "init 1/5 --- 17.919318199157715 seconds\n",
      "\n",
      "init 2/5 --- 16.002219915390015 seconds\n",
      "\n",
      "init 3/5 --- 16.10908269882202 seconds\n",
      "\n",
      "init 4/5 --- 16.31044340133667 seconds\n",
      "\n",
      "init 5/5 --- 16.65442943572998 seconds\n",
      "\n",
      "0 MODEL DONE\n",
      "better init found with log-likelihood -306.6884310732833\n",
      "init 1/5 --- 18.273269414901733 seconds\n",
      "\n",
      "init 2/5 --- 18.803725719451904 seconds\n",
      "\n",
      "init 3/5 --- 17.047433376312256 seconds\n",
      "\n",
      "init 4/5 --- 17.241894245147705 seconds\n",
      "\n",
      "init 5/5 --- 16.991541147232056 seconds\n",
      "\n",
      "1 MODEL DONE\n",
      "better init found with log-likelihood -307.78822919471423\n",
      "init 1/5 --- 17.323721408843994 seconds\n",
      "\n",
      "init 2/5 --- 16.18073606491089 seconds\n",
      "\n",
      "init 3/5 --- 18.38756561279297 seconds\n",
      "\n",
      "init 4/5 --- 18.52547264099121 seconds\n",
      "\n",
      "init 5/5 --- 16.690412044525146 seconds\n",
      "\n",
      "2 MODEL DONE\n",
      "better init found with log-likelihood -308.5028123967353\n",
      "init 1/5 --- 16.992849349975586 seconds\n",
      "\n",
      "init 2/5 --- 17.01451015472412 seconds\n",
      "\n",
      "init 3/5 --- 16.97457718849182 seconds\n",
      "\n",
      "init 4/5 --- 17.56204891204834 seconds\n",
      "\n",
      "init 5/5 --- 20.032444953918457 seconds\n",
      "\n",
      "3 MODEL DONE\n",
      "better init found with log-likelihood -308.52828353012677\n",
      "init 1/5 --- 19.069019317626953 seconds\n",
      "\n",
      "init 2/5 --- 17.15246081352234 seconds\n",
      "\n",
      "init 3/5 --- 17.684803247451782 seconds\n",
      "\n",
      "init 4/5 --- 17.129225969314575 seconds\n",
      "\n",
      "init 5/5 --- 19.162874937057495 seconds\n",
      "\n",
      "4 MODEL DONE\n",
      "better init found with log-likelihood -306.8505665640531\n",
      "init 1/5 --- 20.495208978652954 seconds\n",
      "\n",
      "init 2/5 --- 21.773785829544067 seconds\n",
      "\n",
      "init 3/5 --- 18.265205144882202 seconds\n",
      "\n",
      "init 4/5 --- 19.015127897262573 seconds\n",
      "\n",
      "init 5/5 --- 19.564691066741943 seconds\n",
      "\n",
      "5 MODEL DONE\n",
      "better init found with log-likelihood -306.7335710719966\n",
      "init 1/5 --- 18.980411767959595 seconds\n",
      "\n",
      "init 2/5 --- 21.05171775817871 seconds\n",
      "\n",
      "init 3/5 --- 21.076654195785522 seconds\n",
      "\n",
      "init 4/5 --- 17.615901947021484 seconds\n",
      "\n",
      "init 5/5 --- 18.030927896499634 seconds\n",
      "\n",
      "6 MODEL DONE\n",
      "better init found with log-likelihood -306.82131331592433\n",
      "init 1/5 --- 16.755207538604736 seconds\n",
      "\n",
      "init 2/5 --- 16.317407369613647 seconds\n",
      "\n",
      "init 3/5 --- 16.75617003440857 seconds\n",
      "\n",
      "init 4/5 --- 19.861902236938477 seconds\n",
      "\n",
      "init 5/5 --- 19.109909296035767 seconds\n",
      "\n",
      "7 MODEL DONE\n",
      "better init found with log-likelihood -306.9333349625274\n",
      "init 1/5 --- 17.454379558563232 seconds\n",
      "\n",
      "init 2/5 --- 17.353639364242554 seconds\n",
      "\n",
      "init 3/5 --- 18.00981640815735 seconds\n",
      "\n",
      "init 4/5 --- 19.323339223861694 seconds\n",
      "\n",
      "init 5/5 --- 18.16144633293152 seconds\n",
      "\n",
      "8 MODEL DONE\n",
      "better init found with log-likelihood -306.4330298361886\n",
      "init 1/5 --- 20.110236406326294 seconds\n",
      "\n",
      "init 2/5 --- 18.48059368133545 seconds\n",
      "\n",
      "init 3/5 --- 17.030011892318726 seconds\n",
      "\n",
      "init 4/5 --- 17.01855754852295 seconds\n",
      "\n",
      "init 5/5 --- 16.933728218078613 seconds\n",
      "\n",
      "9 MODEL DONE\n",
      "better init found with log-likelihood -305.6560156992486\n",
      "init 1/5 --- 17.33266258239746 seconds\n",
      "\n",
      "init 2/5 --- 18.723899602890015 seconds\n",
      "\n",
      "init 3/5 --- 18.672046422958374 seconds\n",
      "\n",
      "init 4/5 --- 16.821062088012695 seconds\n",
      "\n",
      "init 5/5 --- 17.111254930496216 seconds\n",
      "\n",
      "10 MODEL DONE\n",
      "better init found with log-likelihood -304.9094204269375\n",
      "init 1/5 --- 16.659496545791626 seconds\n",
      "\n",
      "init 2/5 --- 17.373555660247803 seconds\n",
      "\n",
      "init 3/5 --- 15.909499406814575 seconds\n",
      "\n",
      "init 4/5 --- 19.224606037139893 seconds\n",
      "\n",
      "init 5/5 --- 18.819718837738037 seconds\n",
      "\n",
      "11 MODEL DONE\n",
      "better init found with log-likelihood -303.8408808026134\n",
      "init 1/5 --- 16.763221740722656 seconds\n",
      "\n",
      "init 2/5 --- 17.595958709716797 seconds\n",
      "\n",
      "init 3/5 --- 17.192038536071777 seconds\n",
      "\n",
      "init 4/5 --- 16.4540114402771 seconds\n",
      "\n",
      "init 5/5 --- 15.889520645141602 seconds\n",
      "\n",
      "12 MODEL DONE\n",
      "better init found with log-likelihood -302.7080240270015\n",
      "init 1/5 --- 18.374815225601196 seconds\n",
      "\n",
      "init 2/5 --- 19.65249276161194 seconds\n",
      "\n",
      "init 3/5 --- 16.848958730697632 seconds\n",
      "\n",
      "init 4/5 --- 16.34530258178711 seconds\n",
      "\n",
      "init 5/5 --- 16.764212131500244 seconds\n",
      "\n",
      "13 MODEL DONE\n",
      "better init found with log-likelihood -301.6215032399543\n",
      "init 1/5 --- 16.542773723602295 seconds\n",
      "\n",
      "init 2/5 --- 16.124923706054688 seconds\n",
      "\n",
      "init 3/5 --- 17.691079139709473 seconds\n",
      "\n",
      "init 4/5 --- 18.05180335044861 seconds\n",
      "\n",
      "init 5/5 --- 16.35926389694214 seconds\n",
      "\n",
      "14 MODEL DONE\n",
      "better init found with log-likelihood -300.62130771170126\n",
      "init 1/5 --- 16.682432413101196 seconds\n",
      "\n",
      "init 2/5 --- 16.459994792938232 seconds\n",
      "\n",
      "init 3/5 --- 16.613552570343018 seconds\n",
      "\n",
      "init 4/5 --- 15.873632431030273 seconds\n",
      "\n",
      "init 5/5 --- 18.649447679519653 seconds\n",
      "\n",
      "15 MODEL DONE\n"
     ]
    }
   ],
   "source": [
    "### FIT MODELS FOR EACH TEST DAY ###\n",
    "\n",
    "# parameters\n",
    "S = 3\n",
    "N_ITER = 25\n",
    "N_INIT = 5\n",
    "\n",
    "# fit models\n",
    "for n in range(N_test):\n",
    "    \n",
    "    r_test = r[T_test[n]-T_train:T_test[n],:]\n",
    "    F_test = F[T_test[n]-T_train:T_test[n],:]\n",
    "    \n",
    "    μ_f = np.mean(F_test,axis=0)\n",
    "    Σ_f = np.cov(tsp(F_test))\n",
    "    \n",
    "    rsfm_test = rsfm_fit(r_test,F_test,S,N_ITER,N_INIT,verbose=1)\n",
    "    rsfm_test.save(r\"C:\\Users\\zhubr\\OneDrive\\Desktop\\ECON 492\\data\\old-i\\test\\rsfm-\"+str(n)+\".npz\")\n",
    "    \n",
    "    fm_test = fm_fit(r_test,F_test)\n",
    "    np.savez(r\"C:\\Users\\zhubr\\OneDrive\\Desktop\\ECON 492\\data\\old-i\\test\\fm-\"+str(n)+\".npz\",\n",
    "             alpha=fm_test.α,beta=fm_test.B,sigma=fm_test.σ)\n",
    "    \n",
    "    μ_r_test = np.mean(r_test,axis=0)\n",
    "    Σ_r_test = np.cov(tsp(r_test))\n",
    "    np.savez(r\"C:\\Users\\zhubr\\OneDrive\\Desktop\\ECON 492\\data\\old-i\\test\\em-\"+str(n)+\".npz\",\n",
    "             mean=μ_r_test,cov=Σ_r_test)\n",
    "    \n",
    "    print(n,\"MODEL DONE\")"
   ]
  },
  {
   "cell_type": "markdown",
   "metadata": {},
   "source": [
    "# Average over all states"
   ]
  },
  {
   "cell_type": "code",
   "execution_count": 10,
   "metadata": {
    "scrolled": true
   },
   "outputs": [
    {
     "data": {
      "image/png": "[encoded data removed]",
      "text/plain": [
       "<Figure size 432x288 with 1 Axes>"
      ]
     },
     "metadata": {
      "needs_background": "light"
     },
     "output_type": "display_data"
    },
    {
     "data": {
      "image/png": "[encoded data removed]",
      "text/plain": [
       "<Figure size 432x288 with 1 Axes>"
      ]
     },
     "metadata": {
      "needs_background": "light"
     },
     "output_type": "display_data"
    },
    {
     "data": {
      "image/png": "[encoded data removed]",
      "text/plain": [
       "<Figure size 432x288 with 1 Axes>"
      ]
     },
     "metadata": {
      "needs_background": "light"
     },
     "output_type": "display_data"
    },
    {
     "data": {
      "image/png": "[encoded data removed]",
      "text/plain": [
       "<Figure size 432x288 with 1 Axes>"
      ]
     },
     "metadata": {
      "needs_background": "light"
     },
     "output_type": "display_data"
    },
    {
     "data": {
      "image/png": "[encoded data removed]",
      "text/plain": [
       "<Figure size 432x288 with 1 Axes>"
      ]
     },
     "metadata": {
      "needs_background": "light"
     },
     "output_type": "display_data"
    },
    {
     "data": {
      "image/png": "[encoded data removed]",
      "text/plain": [
       "<Figure size 432x288 with 1 Axes>"
      ]
     },
     "metadata": {
      "needs_background": "light"
     },
     "output_type": "display_data"
    },
    {
     "data": {
      "image/png": "[encoded data removed]",
      "text/plain": [
       "<Figure size 432x288 with 1 Axes>"
      ]
     },
     "metadata": {
      "needs_background": "light"
     },
     "output_type": "display_data"
    },
    {
     "data": {
      "image/png": "[encoded data removed]",
      "text/plain": [
       "<Figure size 432x288 with 1 Axes>"
      ]
     },
     "metadata": {
      "needs_background": "light"
     },
     "output_type": "display_data"
    },
    {
     "data": {
      "image/png": "[encoded data removed]",
      "text/plain": [
       "<Figure size 432x288 with 1 Axes>"
      ]
     },
     "metadata": {
      "needs_background": "light"
     },
     "output_type": "display_data"
    },
    {
     "data": {
      "image/png": "[encoded data removed]",
      "text/plain": [
       "<Figure size 432x288 with 1 Axes>"
      ]
     },
     "metadata": {
      "needs_background": "light"
     },
     "output_type": "display_data"
    },
    {
     "data": {
      "image/png": "[encoded data removed]",
      "text/plain": [
       "<Figure size 432x288 with 1 Axes>"
      ]
     },
     "metadata": {
      "needs_background": "light"
     },
     "output_type": "display_data"
    },
    {
     "data": {
      "image/png": "[encoded data removed]",
      "text/plain": [
       "<Figure size 432x288 with 1 Axes>"
      ]
     },
     "metadata": {
      "needs_background": "light"
     },
     "output_type": "display_data"
    },
    {
     "data": {
      "image/png": "[encoded data removed]",
      "text/plain": [
       "<Figure size 432x288 with 1 Axes>"
      ]
     },
     "metadata": {
      "needs_background": "light"
     },
     "output_type": "display_data"
    },
    {
     "data": {
      "image/png": "[encoded data removed]",
      "text/plain": [
       "<Figure size 432x288 with 1 Axes>"
      ]
     },
     "metadata": {
      "needs_background": "light"
     },
     "output_type": "display_data"
    },
    {
     "data": {
      "image/png": "[encoded data removed]",
      "text/plain": [
       "<Figure size 432x288 with 1 Axes>"
      ]
     },
     "metadata": {
      "needs_background": "light"
     },
     "output_type": "display_data"
    },
    {
     "data": {
      "image/png": "[encoded data removed]",
      "text/plain": [
       "<Figure size 432x288 with 1 Axes>"
      ]
     },
     "metadata": {
      "needs_background": "light"
     },
     "output_type": "display_data"
    },
    {
     "name": "stdout",
     "output_type": "stream",
     "text": [
      "0.8734048517413898\n",
      "0.26807724756366136\n",
      "0.24308248807924748\n"
     ]
    }
   ],
   "source": [
    "### TEST PORTFOLIOS ###\n",
    "\n",
    "n_count = 0\n",
    "rs_performance = np.zeros(T_test[-1]+H-T_train)\n",
    "fm_performance = np.zeros(T_test[-1]+H-T_train)\n",
    "em_performance = np.zeros(T_test[-1]+H-T_train)\n",
    "for t in range(T_train,T_test[-1]+H):\n",
    "    if t in T_test:\n",
    "        \n",
    "        r_test = r[T_test[n_count]-T_train:T_test[n_count],:]\n",
    "        F_test = F[T_test[n_count]-T_train:T_test[n_count],:]\n",
    "\n",
    "        μ_f = np.mean(F_test,axis=0)\n",
    "        Σ_f = np.cov(tsp(F_test))\n",
    "        \n",
    "        ### COMPUTE MEAN AND COVARIANCE OF RETURNS ###\n",
    "        \n",
    "        # regime-switching factor model\n",
    "        rsfm = np.load(r\"C:\\Users\\zhubr\\OneDrive\\Desktop\\ECON 492\\data\\old-i\\test\\rsfm-\"+str(n_count)+\".npz\")     \n",
    "        p_hat = rsfm['prediction'][-1]\n",
    "        μ_rs = np.zeros(N)\n",
    "        Σ_rs = np.zeros((N,N))\n",
    "        for s in range(S):\n",
    "            μ_rs += p_hat[s]*(rsfm['alpha'][s]+rsfm['beta'][s]@μ_f)\n",
    "            Σ_rs += p_hat[s]*(np.outer(rsfm['alpha'][s],rsfm['alpha'][s])+np.outer(rsfm['alpha'][s],rsfm['beta'][s]@μ_f)\n",
    "                             +np.outer(rsfm['beta'][s]@μ_f,rsfm['alpha'][s])+rsfm['beta'][s]@(Σ_f+np.outer(μ_f,μ_f))@tsp(rsfm['beta'][s])\n",
    "                             +np.diag(rsfm['sigma'][s]**2))\n",
    "        Σ_rs = Σ_rs-np.outer(μ_rs,μ_rs)\n",
    "        \n",
    "        μ_rs = 1+μ_rs/100\n",
    "        Σ_rs = Σ_rs/10000\n",
    "        \n",
    "        # factor model\n",
    "        fm = np.load(r\"C:\\Users\\zhubr\\OneDrive\\Desktop\\ECON 492\\data\\old-i\\test\\fm-\"+str(n_count)+\".npz\")\n",
    "        μ_fm = fm['alpha']+fm['beta']@μ_f\n",
    "        Σ_fm = fm['beta']@Σ_f@tsp(fm['beta'])+np.diag(fm['sigma']**2)\n",
    "        μ_fm = 1+μ_fm/100\n",
    "        Σ_fm = Σ_fm/10000\n",
    "        \n",
    "        # empirical\n",
    "        em = np.load(r\"C:\\Users\\zhubr\\OneDrive\\Desktop\\ECON 492\\data\\old-i\\test\\em-\"+str(n_count)+\".npz\")\n",
    "        μ_em = em['mean']\n",
    "        Σ_em = em['cov']\n",
    "        μ_em = 1+μ_em/100\n",
    "        Σ_em = Σ_em/10000\n",
    "        \n",
    "        n_count += 1\n",
    "        \n",
    "        ### COMPUTE OPTIMAL WEIGHTS (NO-SHORT SELLING) ###\n",
    "        \n",
    "        K = 500\n",
    "        η = 50\n",
    "        γ = 1\n",
    "        \n",
    "        w_rs, w_rs_hist, u_rs_hist = mvpo_egd(μ_rs,Σ_rs,γ,K,η)\n",
    "        w_fm, w_fm_hist, u_fm_hist = mvpo_egd(μ_fm,Σ_fm,γ,K,η)\n",
    "        w_em, w_em_hist, u_em_hist = mvpo_egd(μ_em,Σ_em,γ,K,η)\n",
    "        \n",
    "        plt.plot(u_rs_hist)\n",
    "        plt.plot(u_fm_hist)\n",
    "        plt.plot(u_em_hist)\n",
    "        plt.grid()\n",
    "        plt.show()\n",
    "        \n",
    "    ### COMPUTE RETURNS ###\n",
    "    \n",
    "    rs_performance[t-T_train] = w_rs@r[t,:]\n",
    "    fm_performance[t-T_train] = w_fm@r[t,:]\n",
    "    em_performance[t-T_train] = w_em@r[t,:]\n",
    "\n",
    "print(np.mean(rs_performance))\n",
    "print(np.mean(fm_performance))\n",
    "print(np.mean(em_performance))"
   ]
  },
  {
   "cell_type": "code",
   "execution_count": 11,
   "metadata": {
    "scrolled": true
   },
   "outputs": [
    {
     "name": "stdout",
     "output_type": "stream",
     "text": [
      "0\n",
      "1\n",
      "2\n",
      "3\n",
      "4\n",
      "5\n",
      "6\n",
      "7\n",
      "8\n",
      "9\n",
      "10\n",
      "11\n",
      "12\n",
      "13\n",
      "14\n",
      "15\n",
      "16\n",
      "17\n",
      "18\n",
      "19\n",
      "20\n"
     ]
    }
   ],
   "source": [
    "# γ_grid = np.arange(0.1,2.0,0.1)\n",
    "γ_grid = np.concatenate((np.array([0.01]),np.arange(0.05,1.01,0.05)))\n",
    "rs_grid = np.zeros(len(γ_grid))\n",
    "fm_grid = np.zeros(len(γ_grid))\n",
    "em_grid = np.zeros(len(γ_grid))\n",
    "\n",
    "for g in range(len(γ_grid)):\n",
    "\n",
    "    ### TEST PORTFOLIOS ###\n",
    "\n",
    "    n_count = 0\n",
    "    rs_performance = np.zeros(T_test[-1]+H-T_train)\n",
    "    fm_performance = np.zeros(T_test[-1]+H-T_train)\n",
    "    em_performance = np.zeros(T_test[-1]+H-T_train)\n",
    "    for t in range(T_train,T_test[-1]+H):\n",
    "        if t in T_test:\n",
    "            \n",
    "            r_test = r[T_test[n_count]-T_train:T_test[n_count],:]\n",
    "            F_test = F[T_test[n_count]-T_train:T_test[n_count],:]\n",
    "\n",
    "            μ_f = np.mean(F_test,axis=0)\n",
    "            Σ_f = np.cov(tsp(F_test))\n",
    "\n",
    "            ### COMPUTE MEAN AND COVARIANCE OF RETURNS ###\n",
    "\n",
    "            # regime-switching factor model\n",
    "            rsfm = np.load(r\"C:\\Users\\zhubr\\OneDrive\\Desktop\\ECON 492\\data\\old-i\\test\\rsfm-\"+str(n_count)+\".npz\")     \n",
    "            p_hat = rsfm['prediction'][-1]\n",
    "            μ_rs = np.zeros(N)\n",
    "            Σ_rs = np.zeros((N,N))\n",
    "            for s in range(S):\n",
    "                μ_rs += p_hat[s]*(rsfm['alpha'][s]+rsfm['beta'][s]@μ_f)\n",
    "                Σ_rs += p_hat[s]*(np.outer(rsfm['alpha'][s],rsfm['alpha'][s])+np.outer(rsfm['alpha'][s],rsfm['beta'][s]@μ_f)\n",
    "                                 +np.outer(rsfm['beta'][s]@μ_f,rsfm['alpha'][s])+rsfm['beta'][s]@(Σ_f+np.outer(μ_f,μ_f))@tsp(rsfm['beta'][s])\n",
    "                                 +np.diag(rsfm['sigma'][s]**2))\n",
    "            Σ_rs = Σ_rs-np.outer(μ_rs,μ_rs)\n",
    "            μ_rs = 1+μ_rs/100\n",
    "            Σ_rs = Σ_rs/10000\n",
    "\n",
    "            # factor model\n",
    "            fm = np.load(r\"C:\\Users\\zhubr\\OneDrive\\Desktop\\ECON 492\\data\\old-i\\test\\fm-\"+str(n_count)+\".npz\")\n",
    "            μ_fm = fm['alpha']+fm['beta']@μ_f\n",
    "            Σ_fm = fm['beta']@Σ_f@tsp(fm['beta'])+np.diag(fm['sigma']**2)\n",
    "            μ_fm = 1+μ_fm/100\n",
    "            Σ_fm = Σ_fm/10000\n",
    "\n",
    "            # empirical\n",
    "            em = np.load(r\"C:\\Users\\zhubr\\OneDrive\\Desktop\\ECON 492\\data\\old-i\\test\\em-\"+str(n_count)+\".npz\")\n",
    "            μ_em = em['mean']\n",
    "            Σ_em = em['cov']\n",
    "            μ_em = 1+μ_em/100\n",
    "            Σ_em = Σ_em/10000\n",
    "\n",
    "            n_count += 1\n",
    "\n",
    "            ### COMPUTE OPTIMAL WEIGHTS (NO-SHORT SELLING) ###\n",
    "\n",
    "            K = 500\n",
    "            η = 50\n",
    "            γ = γ_grid[g]\n",
    "\n",
    "            w_rs, w_rs_hist, u_rs_hist = mvpo_egd(μ_rs,Σ_rs,γ,K,η)\n",
    "            w_fm, w_fm_hist, u_fm_hist = mvpo_egd(μ_fm,Σ_fm,γ,K,η)\n",
    "            w_em, w_em_hist, u_em_hist = mvpo_egd(μ_em,Σ_em,γ,K,η)\n",
    "\n",
    "            # plt.plot(u_rs_hist)\n",
    "            # plt.plot(u_fm_hist)\n",
    "            # plt.plot(u_em_hist)\n",
    "            # plt.grid()\n",
    "            # plt.show()\n",
    "\n",
    "        ### COMPUTE RETURNS ###\n",
    "\n",
    "        rs_performance[t-T_train] = w_rs@r[t,:]\n",
    "        fm_performance[t-T_train] = w_fm@r[t,:]\n",
    "        em_performance[t-T_train] = w_em@r[t,:]\n",
    "        \n",
    "    ### RECORD MEAN RETURNS ###\n",
    "    \n",
    "    rs_grid[g] = np.mean(rs_performance)\n",
    "    fm_grid[g] = np.mean(fm_performance)\n",
    "    em_grid[g] = np.mean(em_performance)\n",
    "    print(g)\n"
   ]
  },
  {
   "cell_type": "code",
   "execution_count": 12,
   "metadata": {},
   "outputs": [
    {
     "data": {
      "image/png": "[encoded data removed]",
      "text/plain": [
       "<Figure size 432x288 with 1 Axes>"
      ]
     },
     "metadata": {
      "needs_background": "light"
     },
     "output_type": "display_data"
    }
   ],
   "source": [
    "plt.figure(figsize=(6,4))\n",
    "plt.plot(γ_grid,rs_grid,marker='o')\n",
    "plt.plot(γ_grid,fm_grid,marker='o')\n",
    "plt.plot(γ_grid,em_grid,marker='o')\n",
    "plt.hlines(0.4680,0,1,color='C3')\n",
    "plt.xlabel(\"risk aversion\")\n",
    "plt.ylabel(\"average return\")\n",
    "plt.legend(['RS','FM','ED','Mom.'])\n",
    "plt.grid()\n",
    "plt.savefig(r\"C:\\Users\\zhubr\\OneDrive\\Desktop\\ECON 492\\figures\\portfolio-selection-300.png\")\n",
    "plt.show()"
   ]
  }
 ],
 "metadata": {
  "kernelspec": {
   "display_name": "Python 3",
   "language": "python",
   "name": "python3"
  },
  "language_info": {
   "codemirror_mode": {
    "name": "ipython",
    "version": 3
   },
   "file_extension": ".py",
   "mimetype": "text/x-python",
   "name": "python",
   "nbconvert_exporter": "python",
   "pygments_lexer": "ipython3",
   "version": "3.8.5"
  }
 },
 "nbformat": 4,
 "nbformat_minor": 4
}
